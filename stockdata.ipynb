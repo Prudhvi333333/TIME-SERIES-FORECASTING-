{
 "cells": [
  {
   "cell_type": "markdown",
   "metadata": {},
   "source": [
    "### Stock Market Prediction And Forecasting Using Stacked LSTM"
   ]
  },
  {
   "cell_type": "code",
   "execution_count": 2,
   "metadata": {},
   "outputs": [],
   "source": [
    "### Keras and Tensorflow >2.0"
   ]
  },
  {
   "cell_type": "code",
   "execution_count": 3,
   "metadata": {},
   "outputs": [],
   "source": [
    "import numpy as np\n",
    "import matplotlib.pyplot as plt\n",
    "import pandas as pd\n",
    "pd.set_option('display.float_format', lambda x: '%.4f' % x)\n",
    "import seaborn as sns\n",
    "sns.set_context(\"paper\", font_scale=1.3)\n",
    "sns.set_style('white')\n",
    "import warnings\n",
    "warnings.filterwarnings('ignore')\n",
    "from time import time\n",
    "import matplotlib.ticker as tkr\n",
    "from scipy import stats\n",
    "from statsmodels.tsa.stattools import adfuller\n",
    "from sklearn import preprocessing\n",
    "from statsmodels.tsa.stattools import pacf\n",
    "%matplotlib inline\n",
    "\n",
    "import math \n",
    "import keras\n",
    "from keras.models import Sequential\n",
    "from keras.layers import Dense\n",
    "from keras.layers import LSTM\n",
    "from keras.layers import Dropout\n",
    "from keras.layers import *\n",
    "from sklearn.preprocessing import MinMaxScaler\n",
    "from sklearn.metrics import mean_squared_error\n",
    "from sklearn.metrics import mean_absolute_error\n",
    "from keras.callbacks import EarlyStopping"
   ]
  },
  {
   "cell_type": "code",
   "execution_count": 4,
   "metadata": {},
   "outputs": [],
   "source": [
    "df=pd.read_csv('AAPL (2).csv')"
   ]
  },
  {
   "cell_type": "code",
   "execution_count": 5,
   "metadata": {},
   "outputs": [
    {
     "name": "stdout",
     "output_type": "stream",
     "text": [
      "            Date     Open     High      Low    Close  Adj Close     Volume\n",
      "0     1990-01-02   0.3147   0.3348   0.3125   0.3326     0.2672  183198400\n",
      "1     1990-01-03   0.3393   0.3393   0.3348   0.3348     0.2690  207995200\n",
      "2     1990-01-04   0.3415   0.3460   0.3326   0.3359     0.2699  221513600\n",
      "3     1990-01-05   0.3371   0.3415   0.3304   0.3371     0.2708  123312000\n",
      "4     1990-01-08   0.3348   0.3393   0.3304   0.3393     0.2726  101572800\n",
      "...          ...      ...      ...      ...      ...        ...        ...\n",
      "7937  2021-07-02 137.9000 140.0000 137.7500 139.9600   139.9600   78852600\n",
      "7938  2021-07-06 140.0700 143.1500 140.0700 142.0200   142.0200  108181800\n",
      "7939  2021-07-07 143.5400 144.8900 142.6600 144.5700   144.5700  104911600\n",
      "7940  2021-07-08 141.5800 144.0600 140.6700 143.2400   143.2400  105575500\n",
      "7941  2021-07-09 142.7500 145.6500 142.6500 145.1100   145.1100   99788400\n",
      "\n",
      "[7942 rows x 7 columns]\n"
     ]
    }
   ],
   "source": [
    "print(df)"
   ]
  },
  {
   "cell_type": "code",
   "execution_count": 6,
   "metadata": {},
   "outputs": [
    {
     "data": {
      "text/html": [
       "<div>\n",
       "<style scoped>\n",
       "    .dataframe tbody tr th:only-of-type {\n",
       "        vertical-align: middle;\n",
       "    }\n",
       "\n",
       "    .dataframe tbody tr th {\n",
       "        vertical-align: top;\n",
       "    }\n",
       "\n",
       "    .dataframe thead th {\n",
       "        text-align: right;\n",
       "    }\n",
       "</style>\n",
       "<table border=\"1\" class=\"dataframe\">\n",
       "  <thead>\n",
       "    <tr style=\"text-align: right;\">\n",
       "      <th></th>\n",
       "      <th>Date</th>\n",
       "      <th>Open</th>\n",
       "      <th>High</th>\n",
       "      <th>Low</th>\n",
       "      <th>Close</th>\n",
       "      <th>Adj Close</th>\n",
       "      <th>Volume</th>\n",
       "    </tr>\n",
       "  </thead>\n",
       "  <tbody>\n",
       "    <tr>\n",
       "      <th>7937</th>\n",
       "      <td>2021-07-02</td>\n",
       "      <td>137.9000</td>\n",
       "      <td>140.0000</td>\n",
       "      <td>137.7500</td>\n",
       "      <td>139.9600</td>\n",
       "      <td>139.9600</td>\n",
       "      <td>78852600</td>\n",
       "    </tr>\n",
       "    <tr>\n",
       "      <th>7938</th>\n",
       "      <td>2021-07-06</td>\n",
       "      <td>140.0700</td>\n",
       "      <td>143.1500</td>\n",
       "      <td>140.0700</td>\n",
       "      <td>142.0200</td>\n",
       "      <td>142.0200</td>\n",
       "      <td>108181800</td>\n",
       "    </tr>\n",
       "    <tr>\n",
       "      <th>7939</th>\n",
       "      <td>2021-07-07</td>\n",
       "      <td>143.5400</td>\n",
       "      <td>144.8900</td>\n",
       "      <td>142.6600</td>\n",
       "      <td>144.5700</td>\n",
       "      <td>144.5700</td>\n",
       "      <td>104911600</td>\n",
       "    </tr>\n",
       "    <tr>\n",
       "      <th>7940</th>\n",
       "      <td>2021-07-08</td>\n",
       "      <td>141.5800</td>\n",
       "      <td>144.0600</td>\n",
       "      <td>140.6700</td>\n",
       "      <td>143.2400</td>\n",
       "      <td>143.2400</td>\n",
       "      <td>105575500</td>\n",
       "    </tr>\n",
       "    <tr>\n",
       "      <th>7941</th>\n",
       "      <td>2021-07-09</td>\n",
       "      <td>142.7500</td>\n",
       "      <td>145.6500</td>\n",
       "      <td>142.6500</td>\n",
       "      <td>145.1100</td>\n",
       "      <td>145.1100</td>\n",
       "      <td>99788400</td>\n",
       "    </tr>\n",
       "  </tbody>\n",
       "</table>\n",
       "</div>"
      ],
      "text/plain": [
       "            Date     Open     High      Low    Close  Adj Close     Volume\n",
       "7937  2021-07-02 137.9000 140.0000 137.7500 139.9600   139.9600   78852600\n",
       "7938  2021-07-06 140.0700 143.1500 140.0700 142.0200   142.0200  108181800\n",
       "7939  2021-07-07 143.5400 144.8900 142.6600 144.5700   144.5700  104911600\n",
       "7940  2021-07-08 141.5800 144.0600 140.6700 143.2400   143.2400  105575500\n",
       "7941  2021-07-09 142.7500 145.6500 142.6500 145.1100   145.1100   99788400"
      ]
     },
     "execution_count": 6,
     "metadata": {},
     "output_type": "execute_result"
    }
   ],
   "source": [
    "df.tail()"
   ]
  },
  {
   "cell_type": "code",
   "execution_count": 7,
   "metadata": {},
   "outputs": [],
   "source": [
    "df1=df.reset_index()['Open']"
   ]
  },
  {
   "cell_type": "code",
   "execution_count": 8,
   "metadata": {},
   "outputs": [
    {
     "data": {
      "text/plain": [
       "0        0.3147\n",
       "1        0.3393\n",
       "2        0.3415\n",
       "3        0.3371\n",
       "4        0.3348\n",
       "         ...   \n",
       "7937   137.9000\n",
       "7938   140.0700\n",
       "7939   143.5400\n",
       "7940   141.5800\n",
       "7941   142.7500\n",
       "Name: Open, Length: 7942, dtype: float64"
      ]
     },
     "execution_count": 8,
     "metadata": {},
     "output_type": "execute_result"
    }
   ],
   "source": [
    "df1"
   ]
  },
  {
   "cell_type": "code",
   "execution_count": 9,
   "metadata": {},
   "outputs": [
    {
     "data": {
      "text/plain": [
       "[<matplotlib.lines.Line2D at 0x268f58bb5b0>]"
      ]
     },
     "execution_count": 9,
     "metadata": {},
     "output_type": "execute_result"
    },
    {
     "data": {
      "image/png": "[encoded data removed]",
      "text/plain": [
       "<Figure size 432x288 with 1 Axes>"
      ]
     },
     "metadata": {
      "needs_background": "light"
     },
     "output_type": "display_data"
    }
   ],
   "source": [
    "import matplotlib.pyplot as plt\n",
    "plt.plot(df1)"
   ]
  },
  {
   "cell_type": "code",
   "execution_count": 10,
   "metadata": {},
   "outputs": [],
   "source": [
    "### LSTM are sensitive to the scale of the data. so we apply MinMax scaler "
   ]
  },
  {
   "cell_type": "code",
   "execution_count": 11,
   "metadata": {},
   "outputs": [
    {
     "name": "stdout",
     "output_type": "stream",
     "text": [
      "Training set shape ==(7942, 1)\n",
      "[[0.00139232]\n",
      " [0.00156345]\n",
      " [0.001579  ]\n",
      " ...\n",
      " [0.99958175]\n",
      " [0.98592185]\n",
      " [0.994076  ]]\n"
     ]
    },
    {
     "data": {
      "image/png": "[encoded data removed]",
      "text/plain": [
       "<Figure size 432x288 with 1 Axes>"
      ]
     },
     "metadata": {
      "needs_background": "light"
     },
     "output_type": "display_data"
    }
   ],
   "source": [
    "scaler=MinMaxScaler(feature_range=(0,1))\n",
    "df1=scaler.fit_transform(np.array(df1).reshape(-1,1))\n",
    "print('Training set shape =={}'.format(df1.shape))\n",
    "plt.plot(df1)\n",
    "print(df1)"
   ]
  },
  {
   "cell_type": "code",
   "execution_count": 12,
   "metadata": {},
   "outputs": [
    {
     "name": "stdout",
     "output_type": "stream",
     "text": [
      "length of training data and test data : 6353 1589\n",
      "The training data is [[0.00139232]\n",
      " [0.00156345]\n",
      " [0.001579  ]\n",
      " ...\n",
      " [0.21504013]\n",
      " [0.21855967]\n",
      " [0.22047624]]\n",
      "The testing data is  [[0.22352534]\n",
      " [0.22265417]\n",
      " [0.22068533]\n",
      " ...\n",
      " [0.99958175]\n",
      " [0.98592185]\n",
      " [0.994076  ]]\n"
     ]
    }
   ],
   "source": [
    "training_len=int(len(df1)*0.80)\n",
    "test_len=len(df1)-training_len\n",
    "train,test=df1[0:training_len,:],df1[training_len:len(df1),:1]\n",
    "print(\"length of training data and test data :\",training_len,test_len)\n",
    "print(\"The training data is\", train)\n",
    "print(\"The testing data is \",test)"
   ]
  },
  {
   "cell_type": "code",
   "execution_count": 13,
   "metadata": {},
   "outputs": [],
   "source": [
    "# convert an array of values into a dataset matrix\n",
    "def create_dataset(dataset, look_back=1):\n",
    "    X, Y = [], []\n",
    "    for i in range(len(dataset)-look_back-1):\n",
    "        a = dataset[i:(i+look_back), 0]\n",
    "        X.append(a)\n",
    "        Y.append(dataset[i + look_back, 0])\n",
    "    return np.array(X), np.array(Y)"
   ]
  },
  {
   "cell_type": "code",
   "execution_count": 14,
   "metadata": {},
   "outputs": [],
   "source": [
    "look_back = 30\n",
    "X_train, Y_train = create_dataset(train, look_back)\n",
    "X_test, Y_test = create_dataset(test, look_back)"
   ]
  },
  {
   "cell_type": "code",
   "execution_count": 15,
   "metadata": {},
   "outputs": [
    {
     "name": "stdout",
     "output_type": "stream",
     "text": [
      "(6322, 30)\n",
      "(6322,)\n"
     ]
    },
    {
     "data": {
      "text/plain": [
       "(None, None)"
      ]
     },
     "execution_count": 15,
     "metadata": {},
     "output_type": "execute_result"
    }
   ],
   "source": [
    "print(X_train.shape), print(Y_train.shape)"
   ]
  },
  {
   "cell_type": "code",
   "execution_count": 16,
   "metadata": {},
   "outputs": [
    {
     "name": "stdout",
     "output_type": "stream",
     "text": [
      "(1558, 30)\n",
      "(1558,)\n"
     ]
    },
    {
     "data": {
      "text/plain": [
       "(None, None)"
      ]
     },
     "execution_count": 16,
     "metadata": {},
     "output_type": "execute_result"
    }
   ],
   "source": [
    "print(X_test.shape), print(Y_test.shape)"
   ]
  },
  {
   "cell_type": "code",
   "execution_count": 17,
   "metadata": {},
   "outputs": [],
   "source": [
    "# reshape input to be [samples, time steps, features] which is required for LSTM\n",
    "X_train =X_train.reshape(X_train.shape[0],X_train.shape[1] , 1)\n",
    "X_test = X_test.reshape(X_test.shape[0],X_test.shape[1] , 1)"
   ]
  },
  {
   "cell_type": "code",
   "execution_count": 18,
   "metadata": {},
   "outputs": [
    {
     "name": "stdout",
     "output_type": "stream",
     "text": [
      "Epoch 1/100\n",
      "98/98 [==============================] - 2s 16ms/step - loss: 1.9112e-04 - val_loss: 0.0346\n",
      "Epoch 2/100\n",
      "98/98 [==============================] - 1s 12ms/step - loss: 5.4905e-04 - val_loss: 0.0139\n",
      "Epoch 3/100\n",
      "98/98 [==============================] - 1s 11ms/step - loss: 3.0585e-04 - val_loss: 0.0076\n",
      "Epoch 4/100\n",
      "98/98 [==============================] - 1s 11ms/step - loss: 2.2701e-04 - val_loss: 0.0063\n",
      "Epoch 5/100\n",
      "98/98 [==============================] - 1s 10ms/step - loss: 1.9613e-04 - val_loss: 0.0022\n",
      "Epoch 6/100\n",
      "98/98 [==============================] - 1s 11ms/step - loss: 1.5406e-04 - val_loss: 0.0012\n",
      "Epoch 7/100\n",
      "98/98 [==============================] - 1s 11ms/step - loss: 1.0780e-04 - val_loss: 6.3443e-04\n",
      "Epoch 8/100\n",
      "98/98 [==============================] - 1s 10ms/step - loss: 1.0022e-04 - val_loss: 7.3647e-04\n",
      "Epoch 9/100\n",
      "98/98 [==============================] - 1s 10ms/step - loss: 9.1514e-05 - val_loss: 3.4658e-04\n",
      "Epoch 10/100\n",
      "98/98 [==============================] - 1s 11ms/step - loss: 6.6996e-05 - val_loss: 4.4587e-04\n",
      "Epoch 11/100\n",
      "98/98 [==============================] - 1s 10ms/step - loss: 4.5167e-05 - val_loss: 8.8424e-04\n",
      "Epoch 12/100\n",
      "98/98 [==============================] - 1s 14ms/step - loss: 3.7848e-05 - val_loss: 0.0017\n",
      "Epoch 13/100\n",
      "98/98 [==============================] - 1s 15ms/step - loss: 2.6303e-05 - val_loss: 0.0047\n",
      "Epoch 14/100\n",
      "98/98 [==============================] - 1s 12ms/step - loss: 2.2735e-05 - val_loss: 0.0076\n",
      "Epoch 15/100\n",
      "98/98 [==============================] - 1s 11ms/step - loss: 2.2866e-05 - val_loss: 6.3190e-04\n",
      "Epoch 16/100\n",
      "98/98 [==============================] - 1s 11ms/step - loss: 3.1167e-05 - val_loss: 0.0019\n",
      "Epoch 17/100\n",
      "98/98 [==============================] - 1s 11ms/step - loss: 2.4855e-05 - val_loss: 2.4545e-04\n",
      "Epoch 18/100\n",
      "98/98 [==============================] - 1s 10ms/step - loss: 4.0779e-05 - val_loss: 0.0024\n",
      "Epoch 19/100\n",
      "98/98 [==============================] - 1s 10ms/step - loss: 3.1704e-05 - val_loss: 0.0014\n",
      "Epoch 20/100\n",
      "98/98 [==============================] - 1s 11ms/step - loss: 6.4561e-05 - val_loss: 0.0016\n",
      "Epoch 21/100\n",
      "98/98 [==============================] - 1s 11ms/step - loss: 2.1854e-05 - val_loss: 0.0021\n",
      "Epoch 22/100\n",
      "98/98 [==============================] - 1s 11ms/step - loss: 2.1661e-05 - val_loss: 4.0898e-04\n",
      "Epoch 23/100\n",
      "98/98 [==============================] - 1s 12ms/step - loss: 2.8940e-05 - val_loss: 0.0019TA: 0s - loss: 1.8773e\n",
      "Epoch 24/100\n",
      "98/98 [==============================] - 1s 12ms/step - loss: 1.9219e-05 - val_loss: 5.0085e-04\n",
      "Epoch 25/100\n",
      "98/98 [==============================] - 1s 11ms/step - loss: 3.3548e-05 - val_loss: 0.0016\n",
      "Epoch 26/100\n",
      "98/98 [==============================] - 1s 12ms/step - loss: 3.8103e-05 - val_loss: 0.0019\n",
      "Epoch 27/100\n",
      "98/98 [==============================] - 1s 14ms/step - loss: 7.6404e-05 - val_loss: 0.0013oss: 7.4067e-0\n",
      "Model: \"sequential\"\n",
      "_________________________________________________________________\n",
      "Layer (type)                 Output Shape              Param #   \n",
      "=================================================================\n",
      "lstm (LSTM)                  (None, 50)                10400     \n",
      "_________________________________________________________________\n",
      "dropout (Dropout)            (None, 50)                0         \n",
      "_________________________________________________________________\n",
      "dense (Dense)                (None, 1)                 51        \n",
      "=================================================================\n",
      "Total params: 10,451\n",
      "Trainable params: 10,451\n",
      "Non-trainable params: 0\n",
      "_________________________________________________________________\n"
     ]
    }
   ],
   "source": [
    "model = Sequential()\n",
    "model.add(LSTM(50, input_shape=(X_train.shape[1], X_train.shape[2])))\n",
    "model.add(Dropout(0.2))\n",
    "model.add(Dense(1))\n",
    "model.compile(loss='mean_squared_error', optimizer='adam')\n",
    "\n",
    "history = model.fit(X_train, Y_train, epochs=100, batch_size=65, validation_data=(X_test, Y_test), \n",
    "                    callbacks=[EarlyStopping(monitor='val_loss', patience=10)], verbose=1, shuffle=False)\n",
    "\n",
    "# Training Phase\n",
    "model.summary()"
   ]
  },
  {
   "cell_type": "code",
   "execution_count": null,
   "metadata": {},
   "outputs": [],
   "source": []
  },
  {
   "cell_type": "code",
   "execution_count": 19,
   "metadata": {},
   "outputs": [
    {
     "name": "stdout",
     "output_type": "stream",
     "text": [
      "Train Mean Absolute Error: 1.10561447967321\n",
      "Train Root Mean Squared Error: 1.1657257983463107\n",
      "Test Mean Absolute Error: 2.684754724276463\n",
      "Test Root Mean Squared Error: 5.23040149305558\n"
     ]
    }
   ],
   "source": [
    "train_predict = model.predict(X_train)\n",
    "test_predict = model.predict(X_test)\n",
    "# invert predictions\n",
    "train_predict = scaler.inverse_transform(train_predict)\n",
    "Y_train = scaler.inverse_transform([Y_train])\n",
    "test_predict = scaler.inverse_transform(test_predict)\n",
    "Y_test = scaler.inverse_transform([Y_test])\n",
    "\n",
    "print('Train Mean Absolute Error:', mean_absolute_error(Y_train[0], train_predict[:,0]))\n",
    "print('Train Root Mean Squared Error:',np.sqrt(mean_squared_error(Y_train[0], train_predict[:,0])))\n",
    "print('Test Mean Absolute Error:', mean_absolute_error(Y_test[0], test_predict[:,0]))\n",
    "print('Test Root Mean Squared Error:',np.sqrt(mean_squared_error(Y_test[0], test_predict[:,0])))"
   ]
  },
  {
   "cell_type": "code",
   "execution_count": 20,
   "metadata": {},
   "outputs": [
    {
     "data": {
      "image/png": "[encoded data removed]",
      "text/plain": [
       "<Figure size 576x288 with 1 Axes>"
      ]
     },
     "metadata": {
      "needs_background": "light"
     },
     "output_type": "display_data"
    }
   ],
   "source": [
    "plt.figure(figsize=(8,4))\n",
    "plt.plot(history.history['loss'], label='Train Loss')\n",
    "plt.plot(history.history['val_loss'], label='Test Loss')\n",
    "plt.title('model loss')\n",
    "plt.ylabel('loss')\n",
    "plt.xlabel('epochs')\n",
    "plt.legend(loc='upper right')\n",
    "plt.show();"
   ]
  },
  {
   "cell_type": "code",
   "execution_count": 21,
   "metadata": {},
   "outputs": [
    {
     "data": {
      "text/plain": [
       "7942"
      ]
     },
     "execution_count": 21,
     "metadata": {},
     "output_type": "execute_result"
    }
   ],
   "source": [
    "len(df1)"
   ]
  },
  {
   "cell_type": "code",
   "execution_count": 22,
   "metadata": {},
   "outputs": [
    {
     "data": {
      "image/png": "[encoded data removed]",
      "text/plain": [
       "<Figure size 432x288 with 1 Axes>"
      ]
     },
     "metadata": {
      "needs_background": "light"
     },
     "output_type": "display_data"
    }
   ],
   "source": [
    "#plotting the trained graph with original one\n",
    "##shift train predictions for plotting\n",
    "lock_back=30\n",
    "tpp=np.empty_like(df1)\n",
    "tpp[:,:]=np.nan\n",
    "tpp[lock_back:len(train_predict)+lock_back, :]=train_predict\n",
    "\n",
    "#shift test prediction for plotting\n",
    "tspp=np.empty_like(df1)\n",
    "tspp[:,:]=np.nan\n",
    "tspp[len(train_predict)+(lock_back*2)+1:len(df1)-1, :]=test_predict\n",
    "\n",
    "#plotting the baseline and predcitions\n",
    "plt.plot(scaler.inverse_transform(df1), color='blue', label='orginal')\n",
    "plt.plot(tpp, color='red', label='trained')\n",
    "plt.plot(tspp, color='green', label='predictoutput')\n",
    "plt.legend(loc='best')\n",
    "\n",
    "\n",
    "plt.show()"
   ]
  },
  {
   "cell_type": "code",
   "execution_count": 23,
   "metadata": {},
   "outputs": [
    {
     "data": {
      "text/plain": [
       "1589"
      ]
     },
     "execution_count": 23,
     "metadata": {},
     "output_type": "execute_result"
    }
   ],
   "source": [
    "len(test)"
   ]
  },
  {
   "cell_type": "code",
   "execution_count": 24,
   "metadata": {},
   "outputs": [
    {
     "data": {
      "text/plain": [
       "(1, 100)"
      ]
     },
     "execution_count": 24,
     "metadata": {},
     "output_type": "execute_result"
    }
   ],
   "source": [
    "x_input=test[1489:].reshape(1,-1)\n",
    "x_input.shape\n"
   ]
  },
  {
   "cell_type": "code",
   "execution_count": 25,
   "metadata": {},
   "outputs": [],
   "source": [
    "temp_input=list(x_input)\n",
    "temp_input=temp_input[0].tolist()"
   ]
  },
  {
   "cell_type": "code",
   "execution_count": 26,
   "metadata": {},
   "outputs": [
    {
     "name": "stdout",
     "output_type": "stream",
     "text": [
      "WARNING:tensorflow:Model was constructed with shape (None, 30, 1) for input Tensor(\"lstm_input:0\", shape=(None, 30, 1), dtype=float32), but it was called on an input with incompatible shape (None, 100, 1).\n",
      "[1.1229697]\n",
      "101\n",
      "1 day input [0.89964105 0.90688925 0.89134749 0.86172773 0.86995158 0.86813953\n",
      " 0.85357353 0.86165802 0.8941353  0.86904554 0.84771929 0.84235289\n",
      " 0.84200441 0.8287626  0.84730114 0.85322509 0.83831065 0.84534973\n",
      " 0.87524827 0.86374885 0.85559465 0.83482597 0.8378228  0.8587309\n",
      " 0.85517651 0.83231699 0.83796216 0.84702236 0.83628953 0.84702236\n",
      " 0.86103081 0.86249437 0.88082378 0.87615432 0.89789871 0.90382271\n",
      " 0.9227794  0.92222183 0.93964525 0.9318396  0.93518486 0.92967901\n",
      " 0.94020282 0.92166428 0.92640339 0.92027043 0.93887862 0.94013306\n",
      " 0.93525452 0.95030838 0.91762203 0.91943403 0.91351013 0.89964105\n",
      " 0.89051119 0.91114057 0.90110467 0.85991568 0.85921876 0.86744261\n",
      " 0.87908144 0.88305398 0.88124193 0.85754612 0.8719727  0.89002334\n",
      " 0.8774088  0.89002334 0.88402968 0.88040563 0.87434227 0.87092729\n",
      " 0.86535178 0.86813953 0.86388822 0.87852387 0.8815207  0.88577202\n",
      " 0.88444783 0.88103285 0.89002334 0.90479842 0.9077952  0.90382271\n",
      " 0.91016486 0.9073074  0.92006135 0.93149111 0.93623023 0.92933062\n",
      " 0.92898213 0.93866955 0.94821755 0.95121443 0.96027452 0.97539814\n",
      " 0.99958175 0.98592185 0.994076   1.12296975]\n",
      "1 day output [[1.1707963]]\n",
      "2 day input [0.90688925 0.89134749 0.86172773 0.86995158 0.86813953 0.85357353\n",
      " 0.86165802 0.8941353  0.86904554 0.84771929 0.84235289 0.84200441\n",
      " 0.8287626  0.84730114 0.85322509 0.83831065 0.84534973 0.87524827\n",
      " 0.86374885 0.85559465 0.83482597 0.8378228  0.8587309  0.85517651\n",
      " 0.83231699 0.83796216 0.84702236 0.83628953 0.84702236 0.86103081\n",
      " 0.86249437 0.88082378 0.87615432 0.89789871 0.90382271 0.9227794\n",
      " 0.92222183 0.93964525 0.9318396  0.93518486 0.92967901 0.94020282\n",
      " 0.92166428 0.92640339 0.92027043 0.93887862 0.94013306 0.93525452\n",
      " 0.95030838 0.91762203 0.91943403 0.91351013 0.89964105 0.89051119\n",
      " 0.91114057 0.90110467 0.85991568 0.85921876 0.86744261 0.87908144\n",
      " 0.88305398 0.88124193 0.85754612 0.8719727  0.89002334 0.8774088\n",
      " 0.89002334 0.88402968 0.88040563 0.87434227 0.87092729 0.86535178\n",
      " 0.86813953 0.86388822 0.87852387 0.8815207  0.88577202 0.88444783\n",
      " 0.88103285 0.89002334 0.90479842 0.9077952  0.90382271 0.91016486\n",
      " 0.9073074  0.92006135 0.93149111 0.93623023 0.92933062 0.92898213\n",
      " 0.93866955 0.94821755 0.95121443 0.96027452 0.97539814 0.99958175\n",
      " 0.98592185 0.994076   1.12296975 1.17079628]\n",
      "2 day output [[1.2407416]]\n",
      "3 day input [0.89134749 0.86172773 0.86995158 0.86813953 0.85357353 0.86165802\n",
      " 0.8941353  0.86904554 0.84771929 0.84235289 0.84200441 0.8287626\n",
      " 0.84730114 0.85322509 0.83831065 0.84534973 0.87524827 0.86374885\n",
      " 0.85559465 0.83482597 0.8378228  0.8587309  0.85517651 0.83231699\n",
      " 0.83796216 0.84702236 0.83628953 0.84702236 0.86103081 0.86249437\n",
      " 0.88082378 0.87615432 0.89789871 0.90382271 0.9227794  0.92222183\n",
      " 0.93964525 0.9318396  0.93518486 0.92967901 0.94020282 0.92166428\n",
      " 0.92640339 0.92027043 0.93887862 0.94013306 0.93525452 0.95030838\n",
      " 0.91762203 0.91943403 0.91351013 0.89964105 0.89051119 0.91114057\n",
      " 0.90110467 0.85991568 0.85921876 0.86744261 0.87908144 0.88305398\n",
      " 0.88124193 0.85754612 0.8719727  0.89002334 0.8774088  0.89002334\n",
      " 0.88402968 0.88040563 0.87434227 0.87092729 0.86535178 0.86813953\n",
      " 0.86388822 0.87852387 0.8815207  0.88577202 0.88444783 0.88103285\n",
      " 0.89002334 0.90479842 0.9077952  0.90382271 0.91016486 0.9073074\n",
      " 0.92006135 0.93149111 0.93623023 0.92933062 0.92898213 0.93866955\n",
      " 0.94821755 0.95121443 0.96027452 0.97539814 0.99958175 0.98592185\n",
      " 0.994076   1.12296975 1.17079628 1.24074161]\n",
      "3 day output [[1.3319178]]\n",
      "4 day input [0.86172773 0.86995158 0.86813953 0.85357353 0.86165802 0.8941353\n",
      " 0.86904554 0.84771929 0.84235289 0.84200441 0.8287626  0.84730114\n",
      " 0.85322509 0.83831065 0.84534973 0.87524827 0.86374885 0.85559465\n",
      " 0.83482597 0.8378228  0.8587309  0.85517651 0.83231699 0.83796216\n",
      " 0.84702236 0.83628953 0.84702236 0.86103081 0.86249437 0.88082378\n",
      " 0.87615432 0.89789871 0.90382271 0.9227794  0.92222183 0.93964525\n",
      " 0.9318396  0.93518486 0.92967901 0.94020282 0.92166428 0.92640339\n",
      " 0.92027043 0.93887862 0.94013306 0.93525452 0.95030838 0.91762203\n",
      " 0.91943403 0.91351013 0.89964105 0.89051119 0.91114057 0.90110467\n",
      " 0.85991568 0.85921876 0.86744261 0.87908144 0.88305398 0.88124193\n",
      " 0.85754612 0.8719727  0.89002334 0.8774088  0.89002334 0.88402968\n",
      " 0.88040563 0.87434227 0.87092729 0.86535178 0.86813953 0.86388822\n",
      " 0.87852387 0.8815207  0.88577202 0.88444783 0.88103285 0.89002334\n",
      " 0.90479842 0.9077952  0.90382271 0.91016486 0.9073074  0.92006135\n",
      " 0.93149111 0.93623023 0.92933062 0.92898213 0.93866955 0.94821755\n",
      " 0.95121443 0.96027452 0.97539814 0.99958175 0.98592185 0.994076\n",
      " 1.12296975 1.17079628 1.24074161 1.33191776]\n",
      "4 day output [[1.4458175]]\n",
      "5 day input [0.86995158 0.86813953 0.85357353 0.86165802 0.8941353  0.86904554\n",
      " 0.84771929 0.84235289 0.84200441 0.8287626  0.84730114 0.85322509\n",
      " 0.83831065 0.84534973 0.87524827 0.86374885 0.85559465 0.83482597\n",
      " 0.8378228  0.8587309  0.85517651 0.83231699 0.83796216 0.84702236\n",
      " 0.83628953 0.84702236 0.86103081 0.86249437 0.88082378 0.87615432\n",
      " 0.89789871 0.90382271 0.9227794  0.92222183 0.93964525 0.9318396\n",
      " 0.93518486 0.92967901 0.94020282 0.92166428 0.92640339 0.92027043\n",
      " 0.93887862 0.94013306 0.93525452 0.95030838 0.91762203 0.91943403\n",
      " 0.91351013 0.89964105 0.89051119 0.91114057 0.90110467 0.85991568\n",
      " 0.85921876 0.86744261 0.87908144 0.88305398 0.88124193 0.85754612\n",
      " 0.8719727  0.89002334 0.8774088  0.89002334 0.88402968 0.88040563\n",
      " 0.87434227 0.87092729 0.86535178 0.86813953 0.86388822 0.87852387\n",
      " 0.8815207  0.88577202 0.88444783 0.88103285 0.89002334 0.90479842\n",
      " 0.9077952  0.90382271 0.91016486 0.9073074  0.92006135 0.93149111\n",
      " 0.93623023 0.92933062 0.92898213 0.93866955 0.94821755 0.95121443\n",
      " 0.96027452 0.97539814 0.99958175 0.98592185 0.994076   1.12296975\n",
      " 1.17079628 1.24074161 1.33191776 1.44581747]\n",
      "5 day output [[1.5850835]]\n",
      "6 day input [0.86813953 0.85357353 0.86165802 0.8941353  0.86904554 0.84771929\n",
      " 0.84235289 0.84200441 0.8287626  0.84730114 0.85322509 0.83831065\n",
      " 0.84534973 0.87524827 0.86374885 0.85559465 0.83482597 0.8378228\n",
      " 0.8587309  0.85517651 0.83231699 0.83796216 0.84702236 0.83628953\n",
      " 0.84702236 0.86103081 0.86249437 0.88082378 0.87615432 0.89789871\n",
      " 0.90382271 0.9227794  0.92222183 0.93964525 0.9318396  0.93518486\n",
      " 0.92967901 0.94020282 0.92166428 0.92640339 0.92027043 0.93887862\n",
      " 0.94013306 0.93525452 0.95030838 0.91762203 0.91943403 0.91351013\n",
      " 0.89964105 0.89051119 0.91114057 0.90110467 0.85991568 0.85921876\n",
      " 0.86744261 0.87908144 0.88305398 0.88124193 0.85754612 0.8719727\n",
      " 0.89002334 0.8774088  0.89002334 0.88402968 0.88040563 0.87434227\n",
      " 0.87092729 0.86535178 0.86813953 0.86388822 0.87852387 0.8815207\n",
      " 0.88577202 0.88444783 0.88103285 0.89002334 0.90479842 0.9077952\n",
      " 0.90382271 0.91016486 0.9073074  0.92006135 0.93149111 0.93623023\n",
      " 0.92933062 0.92898213 0.93866955 0.94821755 0.95121443 0.96027452\n",
      " 0.97539814 0.99958175 0.98592185 0.994076   1.12296975 1.17079628\n",
      " 1.24074161 1.33191776 1.44581747 1.58508348]\n",
      "6 day output [[1.7530954]]\n",
      "7 day input [0.85357353 0.86165802 0.8941353  0.86904554 0.84771929 0.84235289\n",
      " 0.84200441 0.8287626  0.84730114 0.85322509 0.83831065 0.84534973\n",
      " 0.87524827 0.86374885 0.85559465 0.83482597 0.8378228  0.8587309\n",
      " 0.85517651 0.83231699 0.83796216 0.84702236 0.83628953 0.84702236\n",
      " 0.86103081 0.86249437 0.88082378 0.87615432 0.89789871 0.90382271\n",
      " 0.9227794  0.92222183 0.93964525 0.9318396  0.93518486 0.92967901\n",
      " 0.94020282 0.92166428 0.92640339 0.92027043 0.93887862 0.94013306\n",
      " 0.93525452 0.95030838 0.91762203 0.91943403 0.91351013 0.89964105\n",
      " 0.89051119 0.91114057 0.90110467 0.85991568 0.85921876 0.86744261\n",
      " 0.87908144 0.88305398 0.88124193 0.85754612 0.8719727  0.89002334\n",
      " 0.8774088  0.89002334 0.88402968 0.88040563 0.87434227 0.87092729\n",
      " 0.86535178 0.86813953 0.86388822 0.87852387 0.8815207  0.88577202\n",
      " 0.88444783 0.88103285 0.89002334 0.90479842 0.9077952  0.90382271\n",
      " 0.91016486 0.9073074  0.92006135 0.93149111 0.93623023 0.92933062\n",
      " 0.92898213 0.93866955 0.94821755 0.95121443 0.96027452 0.97539814\n",
      " 0.99958175 0.98592185 0.994076   1.12296975 1.17079628 1.24074161\n",
      " 1.33191776 1.44581747 1.58508348 1.75309539]\n"
     ]
    },
    {
     "name": "stdout",
     "output_type": "stream",
     "text": [
      "7 day output [[1.9533575]]\n",
      "8 day input [0.86165802 0.8941353  0.86904554 0.84771929 0.84235289 0.84200441\n",
      " 0.8287626  0.84730114 0.85322509 0.83831065 0.84534973 0.87524827\n",
      " 0.86374885 0.85559465 0.83482597 0.8378228  0.8587309  0.85517651\n",
      " 0.83231699 0.83796216 0.84702236 0.83628953 0.84702236 0.86103081\n",
      " 0.86249437 0.88082378 0.87615432 0.89789871 0.90382271 0.9227794\n",
      " 0.92222183 0.93964525 0.9318396  0.93518486 0.92967901 0.94020282\n",
      " 0.92166428 0.92640339 0.92027043 0.93887862 0.94013306 0.93525452\n",
      " 0.95030838 0.91762203 0.91943403 0.91351013 0.89964105 0.89051119\n",
      " 0.91114057 0.90110467 0.85991568 0.85921876 0.86744261 0.87908144\n",
      " 0.88305398 0.88124193 0.85754612 0.8719727  0.89002334 0.8774088\n",
      " 0.89002334 0.88402968 0.88040563 0.87434227 0.87092729 0.86535178\n",
      " 0.86813953 0.86388822 0.87852387 0.8815207  0.88577202 0.88444783\n",
      " 0.88103285 0.89002334 0.90479842 0.9077952  0.90382271 0.91016486\n",
      " 0.9073074  0.92006135 0.93149111 0.93623023 0.92933062 0.92898213\n",
      " 0.93866955 0.94821755 0.95121443 0.96027452 0.97539814 0.99958175\n",
      " 0.98592185 0.994076   1.12296975 1.17079628 1.24074161 1.33191776\n",
      " 1.44581747 1.58508348 1.75309539 1.95335746]\n",
      "8 day output [[2.1883776]]\n",
      "9 day input [0.8941353  0.86904554 0.84771929 0.84235289 0.84200441 0.8287626\n",
      " 0.84730114 0.85322509 0.83831065 0.84534973 0.87524827 0.86374885\n",
      " 0.85559465 0.83482597 0.8378228  0.8587309  0.85517651 0.83231699\n",
      " 0.83796216 0.84702236 0.83628953 0.84702236 0.86103081 0.86249437\n",
      " 0.88082378 0.87615432 0.89789871 0.90382271 0.9227794  0.92222183\n",
      " 0.93964525 0.9318396  0.93518486 0.92967901 0.94020282 0.92166428\n",
      " 0.92640339 0.92027043 0.93887862 0.94013306 0.93525452 0.95030838\n",
      " 0.91762203 0.91943403 0.91351013 0.89964105 0.89051119 0.91114057\n",
      " 0.90110467 0.85991568 0.85921876 0.86744261 0.87908144 0.88305398\n",
      " 0.88124193 0.85754612 0.8719727  0.89002334 0.8774088  0.89002334\n",
      " 0.88402968 0.88040563 0.87434227 0.87092729 0.86535178 0.86813953\n",
      " 0.86388822 0.87852387 0.8815207  0.88577202 0.88444783 0.88103285\n",
      " 0.89002334 0.90479842 0.9077952  0.90382271 0.91016486 0.9073074\n",
      " 0.92006135 0.93149111 0.93623023 0.92933062 0.92898213 0.93866955\n",
      " 0.94821755 0.95121443 0.96027452 0.97539814 0.99958175 0.98592185\n",
      " 0.994076   1.12296975 1.17079628 1.24074161 1.33191776 1.44581747\n",
      " 1.58508348 1.75309539 1.95335746 2.18837762]\n",
      "9 day output [[2.457881]]\n",
      "10 day input [0.86904554 0.84771929 0.84235289 0.84200441 0.8287626  0.84730114\n",
      " 0.85322509 0.83831065 0.84534973 0.87524827 0.86374885 0.85559465\n",
      " 0.83482597 0.8378228  0.8587309  0.85517651 0.83231699 0.83796216\n",
      " 0.84702236 0.83628953 0.84702236 0.86103081 0.86249437 0.88082378\n",
      " 0.87615432 0.89789871 0.90382271 0.9227794  0.92222183 0.93964525\n",
      " 0.9318396  0.93518486 0.92967901 0.94020282 0.92166428 0.92640339\n",
      " 0.92027043 0.93887862 0.94013306 0.93525452 0.95030838 0.91762203\n",
      " 0.91943403 0.91351013 0.89964105 0.89051119 0.91114057 0.90110467\n",
      " 0.85991568 0.85921876 0.86744261 0.87908144 0.88305398 0.88124193\n",
      " 0.85754612 0.8719727  0.89002334 0.8774088  0.89002334 0.88402968\n",
      " 0.88040563 0.87434227 0.87092729 0.86535178 0.86813953 0.86388822\n",
      " 0.87852387 0.8815207  0.88577202 0.88444783 0.88103285 0.89002334\n",
      " 0.90479842 0.9077952  0.90382271 0.91016486 0.9073074  0.92006135\n",
      " 0.93149111 0.93623023 0.92933062 0.92898213 0.93866955 0.94821755\n",
      " 0.95121443 0.96027452 0.97539814 0.99958175 0.98592185 0.994076\n",
      " 1.12296975 1.17079628 1.24074161 1.33191776 1.44581747 1.58508348\n",
      " 1.75309539 1.95335746 2.18837762 2.45788097]\n",
      "10 day output [[2.7565694]]\n",
      "11 day input [0.84771929 0.84235289 0.84200441 0.8287626  0.84730114 0.85322509\n",
      " 0.83831065 0.84534973 0.87524827 0.86374885 0.85559465 0.83482597\n",
      " 0.8378228  0.8587309  0.85517651 0.83231699 0.83796216 0.84702236\n",
      " 0.83628953 0.84702236 0.86103081 0.86249437 0.88082378 0.87615432\n",
      " 0.89789871 0.90382271 0.9227794  0.92222183 0.93964525 0.9318396\n",
      " 0.93518486 0.92967901 0.94020282 0.92166428 0.92640339 0.92027043\n",
      " 0.93887862 0.94013306 0.93525452 0.95030838 0.91762203 0.91943403\n",
      " 0.91351013 0.89964105 0.89051119 0.91114057 0.90110467 0.85991568\n",
      " 0.85921876 0.86744261 0.87908144 0.88305398 0.88124193 0.85754612\n",
      " 0.8719727  0.89002334 0.8774088  0.89002334 0.88402968 0.88040563\n",
      " 0.87434227 0.87092729 0.86535178 0.86813953 0.86388822 0.87852387\n",
      " 0.8815207  0.88577202 0.88444783 0.88103285 0.89002334 0.90479842\n",
      " 0.9077952  0.90382271 0.91016486 0.9073074  0.92006135 0.93149111\n",
      " 0.93623023 0.92933062 0.92898213 0.93866955 0.94821755 0.95121443\n",
      " 0.96027452 0.97539814 0.99958175 0.98592185 0.994076   1.12296975\n",
      " 1.17079628 1.24074161 1.33191776 1.44581747 1.58508348 1.75309539\n",
      " 1.95335746 2.18837762 2.45788097 2.75656939]\n",
      "11 day output [[3.0724225]]\n",
      "12 day input [0.84235289 0.84200441 0.8287626  0.84730114 0.85322509 0.83831065\n",
      " 0.84534973 0.87524827 0.86374885 0.85559465 0.83482597 0.8378228\n",
      " 0.8587309  0.85517651 0.83231699 0.83796216 0.84702236 0.83628953\n",
      " 0.84702236 0.86103081 0.86249437 0.88082378 0.87615432 0.89789871\n",
      " 0.90382271 0.9227794  0.92222183 0.93964525 0.9318396  0.93518486\n",
      " 0.92967901 0.94020282 0.92166428 0.92640339 0.92027043 0.93887862\n",
      " 0.94013306 0.93525452 0.95030838 0.91762203 0.91943403 0.91351013\n",
      " 0.89964105 0.89051119 0.91114057 0.90110467 0.85991568 0.85921876\n",
      " 0.86744261 0.87908144 0.88305398 0.88124193 0.85754612 0.8719727\n",
      " 0.89002334 0.8774088  0.89002334 0.88402968 0.88040563 0.87434227\n",
      " 0.87092729 0.86535178 0.86813953 0.86388822 0.87852387 0.8815207\n",
      " 0.88577202 0.88444783 0.88103285 0.89002334 0.90479842 0.9077952\n",
      " 0.90382271 0.91016486 0.9073074  0.92006135 0.93149111 0.93623023\n",
      " 0.92933062 0.92898213 0.93866955 0.94821755 0.95121443 0.96027452\n",
      " 0.97539814 0.99958175 0.98592185 0.994076   1.12296975 1.17079628\n",
      " 1.24074161 1.33191776 1.44581747 1.58508348 1.75309539 1.95335746\n",
      " 2.18837762 2.45788097 2.75656939 3.0724225 ]\n",
      "12 day output [[3.387286]]\n",
      "13 day input [0.84200441 0.8287626  0.84730114 0.85322509 0.83831065 0.84534973\n",
      " 0.87524827 0.86374885 0.85559465 0.83482597 0.8378228  0.8587309\n",
      " 0.85517651 0.83231699 0.83796216 0.84702236 0.83628953 0.84702236\n",
      " 0.86103081 0.86249437 0.88082378 0.87615432 0.89789871 0.90382271\n",
      " 0.9227794  0.92222183 0.93964525 0.9318396  0.93518486 0.92967901\n",
      " 0.94020282 0.92166428 0.92640339 0.92027043 0.93887862 0.94013306\n",
      " 0.93525452 0.95030838 0.91762203 0.91943403 0.91351013 0.89964105\n",
      " 0.89051119 0.91114057 0.90110467 0.85991568 0.85921876 0.86744261\n",
      " 0.87908144 0.88305398 0.88124193 0.85754612 0.8719727  0.89002334\n",
      " 0.8774088  0.89002334 0.88402968 0.88040563 0.87434227 0.87092729\n",
      " 0.86535178 0.86813953 0.86388822 0.87852387 0.8815207  0.88577202\n",
      " 0.88444783 0.88103285 0.89002334 0.90479842 0.9077952  0.90382271\n",
      " 0.91016486 0.9073074  0.92006135 0.93149111 0.93623023 0.92933062\n",
      " 0.92898213 0.93866955 0.94821755 0.95121443 0.96027452 0.97539814\n",
      " 0.99958175 0.98592185 0.994076   1.12296975 1.17079628 1.24074161\n",
      " 1.33191776 1.44581747 1.58508348 1.75309539 1.95335746 2.18837762\n",
      " 2.45788097 2.75656939 3.0724225  3.38728595]\n",
      "13 day output [[3.6808414]]\n",
      "14 day input [0.8287626  0.84730114 0.85322509 0.83831065 0.84534973 0.87524827\n",
      " 0.86374885 0.85559465 0.83482597 0.8378228  0.8587309  0.85517651\n",
      " 0.83231699 0.83796216 0.84702236 0.83628953 0.84702236 0.86103081\n",
      " 0.86249437 0.88082378 0.87615432 0.89789871 0.90382271 0.9227794\n",
      " 0.92222183 0.93964525 0.9318396  0.93518486 0.92967901 0.94020282\n",
      " 0.92166428 0.92640339 0.92027043 0.93887862 0.94013306 0.93525452\n",
      " 0.95030838 0.91762203 0.91943403 0.91351013 0.89964105 0.89051119\n",
      " 0.91114057 0.90110467 0.85991568 0.85921876 0.86744261 0.87908144\n",
      " 0.88305398 0.88124193 0.85754612 0.8719727  0.89002334 0.8774088\n",
      " 0.89002334 0.88402968 0.88040563 0.87434227 0.87092729 0.86535178\n",
      " 0.86813953 0.86388822 0.87852387 0.8815207  0.88577202 0.88444783\n",
      " 0.88103285 0.89002334 0.90479842 0.9077952  0.90382271 0.91016486\n",
      " 0.9073074  0.92006135 0.93149111 0.93623023 0.92933062 0.92898213\n",
      " 0.93866955 0.94821755 0.95121443 0.96027452 0.97539814 0.99958175\n",
      " 0.98592185 0.994076   1.12296975 1.17079628 1.24074161 1.33191776\n",
      " 1.44581747 1.58508348 1.75309539 1.95335746 2.18837762 2.45788097\n",
      " 2.75656939 3.0724225  3.38728595 3.68084145]\n",
      "14 day output [[3.9365327]]\n",
      "15 day input [0.84730114 0.85322509 0.83831065 0.84534973 0.87524827 0.86374885\n",
      " 0.85559465 0.83482597 0.8378228  0.8587309  0.85517651 0.83231699\n",
      " 0.83796216 0.84702236 0.83628953 0.84702236 0.86103081 0.86249437\n",
      " 0.88082378 0.87615432 0.89789871 0.90382271 0.9227794  0.92222183\n",
      " 0.93964525 0.9318396  0.93518486 0.92967901 0.94020282 0.92166428\n",
      " 0.92640339 0.92027043 0.93887862 0.94013306 0.93525452 0.95030838\n",
      " 0.91762203 0.91943403 0.91351013 0.89964105 0.89051119 0.91114057\n",
      " 0.90110467 0.85991568 0.85921876 0.86744261 0.87908144 0.88305398\n",
      " 0.88124193 0.85754612 0.8719727  0.89002334 0.8774088  0.89002334\n",
      " 0.88402968 0.88040563 0.87434227 0.87092729 0.86535178 0.86813953\n",
      " 0.86388822 0.87852387 0.8815207  0.88577202 0.88444783 0.88103285\n",
      " 0.89002334 0.90479842 0.9077952  0.90382271 0.91016486 0.9073074\n",
      " 0.92006135 0.93149111 0.93623023 0.92933062 0.92898213 0.93866955\n",
      " 0.94821755 0.95121443 0.96027452 0.97539814 0.99958175 0.98592185\n",
      " 0.994076   1.12296975 1.17079628 1.24074161 1.33191776 1.44581747\n",
      " 1.58508348 1.75309539 1.95335746 2.18837762 2.45788097 2.75656939\n",
      " 3.0724225  3.38728595 3.68084145 3.93653274]\n",
      "15 day output [[4.145928]]\n",
      "16 day input [0.85322509 0.83831065 0.84534973 0.87524827 0.86374885 0.85559465\n",
      " 0.83482597 0.8378228  0.8587309  0.85517651 0.83231699 0.83796216\n",
      " 0.84702236 0.83628953 0.84702236 0.86103081 0.86249437 0.88082378\n",
      " 0.87615432 0.89789871 0.90382271 0.9227794  0.92222183 0.93964525\n",
      " 0.9318396  0.93518486 0.92967901 0.94020282 0.92166428 0.92640339\n",
      " 0.92027043 0.93887862 0.94013306 0.93525452 0.95030838 0.91762203\n",
      " 0.91943403 0.91351013 0.89964105 0.89051119 0.91114057 0.90110467\n",
      " 0.85991568 0.85921876 0.86744261 0.87908144 0.88305398 0.88124193\n",
      " 0.85754612 0.8719727  0.89002334 0.8774088  0.89002334 0.88402968\n",
      " 0.88040563 0.87434227 0.87092729 0.86535178 0.86813953 0.86388822\n",
      " 0.87852387 0.8815207  0.88577202 0.88444783 0.88103285 0.89002334\n",
      " 0.90479842 0.9077952  0.90382271 0.91016486 0.9073074  0.92006135\n",
      " 0.93149111 0.93623023 0.92933062 0.92898213 0.93866955 0.94821755\n",
      " 0.95121443 0.96027452 0.97539814 0.99958175 0.98592185 0.994076\n",
      " 1.12296975 1.17079628 1.24074161 1.33191776 1.44581747 1.58508348\n",
      " 1.75309539 1.95335746 2.18837762 2.45788097 2.75656939 3.0724225\n",
      " 3.38728595 3.68084145 3.93653274 4.14592791]\n",
      "16 day output [[4.309122]]\n",
      "17 day input [0.83831065 0.84534973 0.87524827 0.86374885 0.85559465 0.83482597\n",
      " 0.8378228  0.8587309  0.85517651 0.83231699 0.83796216 0.84702236\n",
      " 0.83628953 0.84702236 0.86103081 0.86249437 0.88082378 0.87615432\n",
      " 0.89789871 0.90382271 0.9227794  0.92222183 0.93964525 0.9318396\n",
      " 0.93518486 0.92967901 0.94020282 0.92166428 0.92640339 0.92027043\n",
      " 0.93887862 0.94013306 0.93525452 0.95030838 0.91762203 0.91943403\n",
      " 0.91351013 0.89964105 0.89051119 0.91114057 0.90110467 0.85991568\n",
      " 0.85921876 0.86744261 0.87908144 0.88305398 0.88124193 0.85754612\n",
      " 0.8719727  0.89002334 0.8774088  0.89002334 0.88402968 0.88040563\n",
      " 0.87434227 0.87092729 0.86535178 0.86813953 0.86388822 0.87852387\n",
      " 0.8815207  0.88577202 0.88444783 0.88103285 0.89002334 0.90479842\n",
      " 0.9077952  0.90382271 0.91016486 0.9073074  0.92006135 0.93149111\n",
      " 0.93623023 0.92933062 0.92898213 0.93866955 0.94821755 0.95121443\n",
      " 0.96027452 0.97539814 0.99958175 0.98592185 0.994076   1.12296975\n",
      " 1.17079628 1.24074161 1.33191776 1.44581747 1.58508348 1.75309539\n",
      " 1.95335746 2.18837762 2.45788097 2.75656939 3.0724225  3.38728595\n",
      " 3.68084145 3.93653274 4.14592791 4.30912209]\n"
     ]
    },
    {
     "name": "stdout",
     "output_type": "stream",
     "text": [
      "17 day output [[4.4319735]]\n",
      "18 day input [0.84534973 0.87524827 0.86374885 0.85559465 0.83482597 0.8378228\n",
      " 0.8587309  0.85517651 0.83231699 0.83796216 0.84702236 0.83628953\n",
      " 0.84702236 0.86103081 0.86249437 0.88082378 0.87615432 0.89789871\n",
      " 0.90382271 0.9227794  0.92222183 0.93964525 0.9318396  0.93518486\n",
      " 0.92967901 0.94020282 0.92166428 0.92640339 0.92027043 0.93887862\n",
      " 0.94013306 0.93525452 0.95030838 0.91762203 0.91943403 0.91351013\n",
      " 0.89964105 0.89051119 0.91114057 0.90110467 0.85991568 0.85921876\n",
      " 0.86744261 0.87908144 0.88305398 0.88124193 0.85754612 0.8719727\n",
      " 0.89002334 0.8774088  0.89002334 0.88402968 0.88040563 0.87434227\n",
      " 0.87092729 0.86535178 0.86813953 0.86388822 0.87852387 0.8815207\n",
      " 0.88577202 0.88444783 0.88103285 0.89002334 0.90479842 0.9077952\n",
      " 0.90382271 0.91016486 0.9073074  0.92006135 0.93149111 0.93623023\n",
      " 0.92933062 0.92898213 0.93866955 0.94821755 0.95121443 0.96027452\n",
      " 0.97539814 0.99958175 0.98592185 0.994076   1.12296975 1.17079628\n",
      " 1.24074161 1.33191776 1.44581747 1.58508348 1.75309539 1.95335746\n",
      " 2.18837762 2.45788097 2.75656939 3.0724225  3.38728595 3.68084145\n",
      " 3.93653274 4.14592791 4.30912209 4.43197346]\n",
      "18 day output [[4.5226126]]\n",
      "19 day input [0.87524827 0.86374885 0.85559465 0.83482597 0.8378228  0.8587309\n",
      " 0.85517651 0.83231699 0.83796216 0.84702236 0.83628953 0.84702236\n",
      " 0.86103081 0.86249437 0.88082378 0.87615432 0.89789871 0.90382271\n",
      " 0.9227794  0.92222183 0.93964525 0.9318396  0.93518486 0.92967901\n",
      " 0.94020282 0.92166428 0.92640339 0.92027043 0.93887862 0.94013306\n",
      " 0.93525452 0.95030838 0.91762203 0.91943403 0.91351013 0.89964105\n",
      " 0.89051119 0.91114057 0.90110467 0.85991568 0.85921876 0.86744261\n",
      " 0.87908144 0.88305398 0.88124193 0.85754612 0.8719727  0.89002334\n",
      " 0.8774088  0.89002334 0.88402968 0.88040563 0.87434227 0.87092729\n",
      " 0.86535178 0.86813953 0.86388822 0.87852387 0.8815207  0.88577202\n",
      " 0.88444783 0.88103285 0.89002334 0.90479842 0.9077952  0.90382271\n",
      " 0.91016486 0.9073074  0.92006135 0.93149111 0.93623023 0.92933062\n",
      " 0.92898213 0.93866955 0.94821755 0.95121443 0.96027452 0.97539814\n",
      " 0.99958175 0.98592185 0.994076   1.12296975 1.17079628 1.24074161\n",
      " 1.33191776 1.44581747 1.58508348 1.75309539 1.95335746 2.18837762\n",
      " 2.45788097 2.75656939 3.0724225  3.38728595 3.68084145 3.93653274\n",
      " 4.14592791 4.30912209 4.43197346 4.52261257]\n",
      "19 day output [[4.588952]]\n",
      "20 day input [0.86374885 0.85559465 0.83482597 0.8378228  0.8587309  0.85517651\n",
      " 0.83231699 0.83796216 0.84702236 0.83628953 0.84702236 0.86103081\n",
      " 0.86249437 0.88082378 0.87615432 0.89789871 0.90382271 0.9227794\n",
      " 0.92222183 0.93964525 0.9318396  0.93518486 0.92967901 0.94020282\n",
      " 0.92166428 0.92640339 0.92027043 0.93887862 0.94013306 0.93525452\n",
      " 0.95030838 0.91762203 0.91943403 0.91351013 0.89964105 0.89051119\n",
      " 0.91114057 0.90110467 0.85991568 0.85921876 0.86744261 0.87908144\n",
      " 0.88305398 0.88124193 0.85754612 0.8719727  0.89002334 0.8774088\n",
      " 0.89002334 0.88402968 0.88040563 0.87434227 0.87092729 0.86535178\n",
      " 0.86813953 0.86388822 0.87852387 0.8815207  0.88577202 0.88444783\n",
      " 0.88103285 0.89002334 0.90479842 0.9077952  0.90382271 0.91016486\n",
      " 0.9073074  0.92006135 0.93149111 0.93623023 0.92933062 0.92898213\n",
      " 0.93866955 0.94821755 0.95121443 0.96027452 0.97539814 0.99958175\n",
      " 0.98592185 0.994076   1.12296975 1.17079628 1.24074161 1.33191776\n",
      " 1.44581747 1.58508348 1.75309539 1.95335746 2.18837762 2.45788097\n",
      " 2.75656939 3.0724225  3.38728595 3.68084145 3.93653274 4.14592791\n",
      " 4.30912209 4.43197346 4.52261257 4.58895206]\n",
      "20 day output [[4.637551]]\n",
      "21 day input [0.85559465 0.83482597 0.8378228  0.8587309  0.85517651 0.83231699\n",
      " 0.83796216 0.84702236 0.83628953 0.84702236 0.86103081 0.86249437\n",
      " 0.88082378 0.87615432 0.89789871 0.90382271 0.9227794  0.92222183\n",
      " 0.93964525 0.9318396  0.93518486 0.92967901 0.94020282 0.92166428\n",
      " 0.92640339 0.92027043 0.93887862 0.94013306 0.93525452 0.95030838\n",
      " 0.91762203 0.91943403 0.91351013 0.89964105 0.89051119 0.91114057\n",
      " 0.90110467 0.85991568 0.85921876 0.86744261 0.87908144 0.88305398\n",
      " 0.88124193 0.85754612 0.8719727  0.89002334 0.8774088  0.89002334\n",
      " 0.88402968 0.88040563 0.87434227 0.87092729 0.86535178 0.86813953\n",
      " 0.86388822 0.87852387 0.8815207  0.88577202 0.88444783 0.88103285\n",
      " 0.89002334 0.90479842 0.9077952  0.90382271 0.91016486 0.9073074\n",
      " 0.92006135 0.93149111 0.93623023 0.92933062 0.92898213 0.93866955\n",
      " 0.94821755 0.95121443 0.96027452 0.97539814 0.99958175 0.98592185\n",
      " 0.994076   1.12296975 1.17079628 1.24074161 1.33191776 1.44581747\n",
      " 1.58508348 1.75309539 1.95335746 2.18837762 2.45788097 2.75656939\n",
      " 3.0724225  3.38728595 3.68084145 3.93653274 4.14592791 4.30912209\n",
      " 4.43197346 4.52261257 4.58895206 4.63755083]\n",
      "21 day output [[4.673385]]\n",
      "22 day input [0.83482597 0.8378228  0.8587309  0.85517651 0.83231699 0.83796216\n",
      " 0.84702236 0.83628953 0.84702236 0.86103081 0.86249437 0.88082378\n",
      " 0.87615432 0.89789871 0.90382271 0.9227794  0.92222183 0.93964525\n",
      " 0.9318396  0.93518486 0.92967901 0.94020282 0.92166428 0.92640339\n",
      " 0.92027043 0.93887862 0.94013306 0.93525452 0.95030838 0.91762203\n",
      " 0.91943403 0.91351013 0.89964105 0.89051119 0.91114057 0.90110467\n",
      " 0.85991568 0.85921876 0.86744261 0.87908144 0.88305398 0.88124193\n",
      " 0.85754612 0.8719727  0.89002334 0.8774088  0.89002334 0.88402968\n",
      " 0.88040563 0.87434227 0.87092729 0.86535178 0.86813953 0.86388822\n",
      " 0.87852387 0.8815207  0.88577202 0.88444783 0.88103285 0.89002334\n",
      " 0.90479842 0.9077952  0.90382271 0.91016486 0.9073074  0.92006135\n",
      " 0.93149111 0.93623023 0.92933062 0.92898213 0.93866955 0.94821755\n",
      " 0.95121443 0.96027452 0.97539814 0.99958175 0.98592185 0.994076\n",
      " 1.12296975 1.17079628 1.24074161 1.33191776 1.44581747 1.58508348\n",
      " 1.75309539 1.95335746 2.18837762 2.45788097 2.75656939 3.0724225\n",
      " 3.38728595 3.68084145 3.93653274 4.14592791 4.30912209 4.43197346\n",
      " 4.52261257 4.58895206 4.63755083 4.67338514]\n",
      "22 day output [[4.7000694]]\n",
      "23 day input [0.8378228  0.8587309  0.85517651 0.83231699 0.83796216 0.84702236\n",
      " 0.83628953 0.84702236 0.86103081 0.86249437 0.88082378 0.87615432\n",
      " 0.89789871 0.90382271 0.9227794  0.92222183 0.93964525 0.9318396\n",
      " 0.93518486 0.92967901 0.94020282 0.92166428 0.92640339 0.92027043\n",
      " 0.93887862 0.94013306 0.93525452 0.95030838 0.91762203 0.91943403\n",
      " 0.91351013 0.89964105 0.89051119 0.91114057 0.90110467 0.85991568\n",
      " 0.85921876 0.86744261 0.87908144 0.88305398 0.88124193 0.85754612\n",
      " 0.8719727  0.89002334 0.8774088  0.89002334 0.88402968 0.88040563\n",
      " 0.87434227 0.87092729 0.86535178 0.86813953 0.86388822 0.87852387\n",
      " 0.8815207  0.88577202 0.88444783 0.88103285 0.89002334 0.90479842\n",
      " 0.9077952  0.90382271 0.91016486 0.9073074  0.92006135 0.93149111\n",
      " 0.93623023 0.92933062 0.92898213 0.93866955 0.94821755 0.95121443\n",
      " 0.96027452 0.97539814 0.99958175 0.98592185 0.994076   1.12296975\n",
      " 1.17079628 1.24074161 1.33191776 1.44581747 1.58508348 1.75309539\n",
      " 1.95335746 2.18837762 2.45788097 2.75656939 3.0724225  3.38728595\n",
      " 3.68084145 3.93653274 4.14592791 4.30912209 4.43197346 4.52261257\n",
      " 4.58895206 4.63755083 4.67338514 4.70006943]\n",
      "23 day output [[4.720161]]\n",
      "24 day input [0.8587309  0.85517651 0.83231699 0.83796216 0.84702236 0.83628953\n",
      " 0.84702236 0.86103081 0.86249437 0.88082378 0.87615432 0.89789871\n",
      " 0.90382271 0.9227794  0.92222183 0.93964525 0.9318396  0.93518486\n",
      " 0.92967901 0.94020282 0.92166428 0.92640339 0.92027043 0.93887862\n",
      " 0.94013306 0.93525452 0.95030838 0.91762203 0.91943403 0.91351013\n",
      " 0.89964105 0.89051119 0.91114057 0.90110467 0.85991568 0.85921876\n",
      " 0.86744261 0.87908144 0.88305398 0.88124193 0.85754612 0.8719727\n",
      " 0.89002334 0.8774088  0.89002334 0.88402968 0.88040563 0.87434227\n",
      " 0.87092729 0.86535178 0.86813953 0.86388822 0.87852387 0.8815207\n",
      " 0.88577202 0.88444783 0.88103285 0.89002334 0.90479842 0.9077952\n",
      " 0.90382271 0.91016486 0.9073074  0.92006135 0.93149111 0.93623023\n",
      " 0.92933062 0.92898213 0.93866955 0.94821755 0.95121443 0.96027452\n",
      " 0.97539814 0.99958175 0.98592185 0.994076   1.12296975 1.17079628\n",
      " 1.24074161 1.33191776 1.44581747 1.58508348 1.75309539 1.95335746\n",
      " 2.18837762 2.45788097 2.75656939 3.0724225  3.38728595 3.68084145\n",
      " 3.93653274 4.14592791 4.30912209 4.43197346 4.52261257 4.58895206\n",
      " 4.63755083 4.67338514 4.70006943 4.72016096]\n",
      "24 day output [[4.735463]]\n",
      "25 day input [0.85517651 0.83231699 0.83796216 0.84702236 0.83628953 0.84702236\n",
      " 0.86103081 0.86249437 0.88082378 0.87615432 0.89789871 0.90382271\n",
      " 0.9227794  0.92222183 0.93964525 0.9318396  0.93518486 0.92967901\n",
      " 0.94020282 0.92166428 0.92640339 0.92027043 0.93887862 0.94013306\n",
      " 0.93525452 0.95030838 0.91762203 0.91943403 0.91351013 0.89964105\n",
      " 0.89051119 0.91114057 0.90110467 0.85991568 0.85921876 0.86744261\n",
      " 0.87908144 0.88305398 0.88124193 0.85754612 0.8719727  0.89002334\n",
      " 0.8774088  0.89002334 0.88402968 0.88040563 0.87434227 0.87092729\n",
      " 0.86535178 0.86813953 0.86388822 0.87852387 0.8815207  0.88577202\n",
      " 0.88444783 0.88103285 0.89002334 0.90479842 0.9077952  0.90382271\n",
      " 0.91016486 0.9073074  0.92006135 0.93149111 0.93623023 0.92933062\n",
      " 0.92898213 0.93866955 0.94821755 0.95121443 0.96027452 0.97539814\n",
      " 0.99958175 0.98592185 0.994076   1.12296975 1.17079628 1.24074161\n",
      " 1.33191776 1.44581747 1.58508348 1.75309539 1.95335746 2.18837762\n",
      " 2.45788097 2.75656939 3.0724225  3.38728595 3.68084145 3.93653274\n",
      " 4.14592791 4.30912209 4.43197346 4.52261257 4.58895206 4.63755083\n",
      " 4.67338514 4.70006943 4.72016096 4.73546314]\n",
      "25 day output [[4.747246]]\n",
      "26 day input [0.83231699 0.83796216 0.84702236 0.83628953 0.84702236 0.86103081\n",
      " 0.86249437 0.88082378 0.87615432 0.89789871 0.90382271 0.9227794\n",
      " 0.92222183 0.93964525 0.9318396  0.93518486 0.92967901 0.94020282\n",
      " 0.92166428 0.92640339 0.92027043 0.93887862 0.94013306 0.93525452\n",
      " 0.95030838 0.91762203 0.91943403 0.91351013 0.89964105 0.89051119\n",
      " 0.91114057 0.90110467 0.85991568 0.85921876 0.86744261 0.87908144\n",
      " 0.88305398 0.88124193 0.85754612 0.8719727  0.89002334 0.8774088\n",
      " 0.89002334 0.88402968 0.88040563 0.87434227 0.87092729 0.86535178\n",
      " 0.86813953 0.86388822 0.87852387 0.8815207  0.88577202 0.88444783\n",
      " 0.88103285 0.89002334 0.90479842 0.9077952  0.90382271 0.91016486\n",
      " 0.9073074  0.92006135 0.93149111 0.93623023 0.92933062 0.92898213\n",
      " 0.93866955 0.94821755 0.95121443 0.96027452 0.97539814 0.99958175\n",
      " 0.98592185 0.994076   1.12296975 1.17079628 1.24074161 1.33191776\n",
      " 1.44581747 1.58508348 1.75309539 1.95335746 2.18837762 2.45788097\n",
      " 2.75656939 3.0724225  3.38728595 3.68084145 3.93653274 4.14592791\n",
      " 4.30912209 4.43197346 4.52261257 4.58895206 4.63755083 4.67338514\n",
      " 4.70006943 4.72016096 4.73546314 4.74724579]\n",
      "26 day output [[4.7564125]]\n",
      "27 day input [0.83796216 0.84702236 0.83628953 0.84702236 0.86103081 0.86249437\n",
      " 0.88082378 0.87615432 0.89789871 0.90382271 0.9227794  0.92222183\n",
      " 0.93964525 0.9318396  0.93518486 0.92967901 0.94020282 0.92166428\n",
      " 0.92640339 0.92027043 0.93887862 0.94013306 0.93525452 0.95030838\n",
      " 0.91762203 0.91943403 0.91351013 0.89964105 0.89051119 0.91114057\n",
      " 0.90110467 0.85991568 0.85921876 0.86744261 0.87908144 0.88305398\n",
      " 0.88124193 0.85754612 0.8719727  0.89002334 0.8774088  0.89002334\n",
      " 0.88402968 0.88040563 0.87434227 0.87092729 0.86535178 0.86813953\n",
      " 0.86388822 0.87852387 0.8815207  0.88577202 0.88444783 0.88103285\n",
      " 0.89002334 0.90479842 0.9077952  0.90382271 0.91016486 0.9073074\n",
      " 0.92006135 0.93149111 0.93623023 0.92933062 0.92898213 0.93866955\n",
      " 0.94821755 0.95121443 0.96027452 0.97539814 0.99958175 0.98592185\n",
      " 0.994076   1.12296975 1.17079628 1.24074161 1.33191776 1.44581747\n",
      " 1.58508348 1.75309539 1.95335746 2.18837762 2.45788097 2.75656939\n",
      " 3.0724225  3.38728595 3.68084145 3.93653274 4.14592791 4.30912209\n",
      " 4.43197346 4.52261257 4.58895206 4.63755083 4.67338514 4.70006943\n",
      " 4.72016096 4.73546314 4.74724579 4.75641251]\n"
     ]
    },
    {
     "name": "stdout",
     "output_type": "stream",
     "text": [
      "27 day output [[4.7636127]]\n",
      "28 day input [0.84702236 0.83628953 0.84702236 0.86103081 0.86249437 0.88082378\n",
      " 0.87615432 0.89789871 0.90382271 0.9227794  0.92222183 0.93964525\n",
      " 0.9318396  0.93518486 0.92967901 0.94020282 0.92166428 0.92640339\n",
      " 0.92027043 0.93887862 0.94013306 0.93525452 0.95030838 0.91762203\n",
      " 0.91943403 0.91351013 0.89964105 0.89051119 0.91114057 0.90110467\n",
      " 0.85991568 0.85921876 0.86744261 0.87908144 0.88305398 0.88124193\n",
      " 0.85754612 0.8719727  0.89002334 0.8774088  0.89002334 0.88402968\n",
      " 0.88040563 0.87434227 0.87092729 0.86535178 0.86813953 0.86388822\n",
      " 0.87852387 0.8815207  0.88577202 0.88444783 0.88103285 0.89002334\n",
      " 0.90479842 0.9077952  0.90382271 0.91016486 0.9073074  0.92006135\n",
      " 0.93149111 0.93623023 0.92933062 0.92898213 0.93866955 0.94821755\n",
      " 0.95121443 0.96027452 0.97539814 0.99958175 0.98592185 0.994076\n",
      " 1.12296975 1.17079628 1.24074161 1.33191776 1.44581747 1.58508348\n",
      " 1.75309539 1.95335746 2.18837762 2.45788097 2.75656939 3.0724225\n",
      " 3.38728595 3.68084145 3.93653274 4.14592791 4.30912209 4.43197346\n",
      " 4.52261257 4.58895206 4.63755083 4.67338514 4.70006943 4.72016096\n",
      " 4.73546314 4.74724579 4.75641251 4.76361275]\n",
      "28 day output [[4.7693143]]\n",
      "29 day input [0.83628953 0.84702236 0.86103081 0.86249437 0.88082378 0.87615432\n",
      " 0.89789871 0.90382271 0.9227794  0.92222183 0.93964525 0.9318396\n",
      " 0.93518486 0.92967901 0.94020282 0.92166428 0.92640339 0.92027043\n",
      " 0.93887862 0.94013306 0.93525452 0.95030838 0.91762203 0.91943403\n",
      " 0.91351013 0.89964105 0.89051119 0.91114057 0.90110467 0.85991568\n",
      " 0.85921876 0.86744261 0.87908144 0.88305398 0.88124193 0.85754612\n",
      " 0.8719727  0.89002334 0.8774088  0.89002334 0.88402968 0.88040563\n",
      " 0.87434227 0.87092729 0.86535178 0.86813953 0.86388822 0.87852387\n",
      " 0.8815207  0.88577202 0.88444783 0.88103285 0.89002334 0.90479842\n",
      " 0.9077952  0.90382271 0.91016486 0.9073074  0.92006135 0.93149111\n",
      " 0.93623023 0.92933062 0.92898213 0.93866955 0.94821755 0.95121443\n",
      " 0.96027452 0.97539814 0.99958175 0.98592185 0.994076   1.12296975\n",
      " 1.17079628 1.24074161 1.33191776 1.44581747 1.58508348 1.75309539\n",
      " 1.95335746 2.18837762 2.45788097 2.75656939 3.0724225  3.38728595\n",
      " 3.68084145 3.93653274 4.14592791 4.30912209 4.43197346 4.52261257\n",
      " 4.58895206 4.63755083 4.67338514 4.70006943 4.72016096 4.73546314\n",
      " 4.74724579 4.75641251 4.76361275 4.76931429]\n",
      "29 day output [[4.7738657]]\n",
      "[[1.1229697465896606], [1.170796275138855], [1.2407416105270386], [1.3319177627563477], [1.445817470550537], [1.5850834846496582], [1.7530953884124756], [1.953357458114624], [2.188377618789673], [2.457880973815918], [2.7565693855285645], [3.072422504425049], [3.3872859477996826], [3.6808414459228516], [3.936532735824585], [4.145927906036377], [4.309122085571289], [4.431973457336426], [4.522612571716309], [4.58895206451416], [4.6375508308410645], [4.673385143280029], [4.700069427490234], [4.720160961151123], [4.7354631423950195], [4.747245788574219], [4.756412506103516], [4.763612747192383], [4.769314289093018], [4.773865699768066]]\n"
     ]
    }
   ],
   "source": [
    "# demonstrate prediction for next 10 days\n",
    "from numpy import array\n",
    "\n",
    "lst_output=[]\n",
    "n_steps=100\n",
    "i=0\n",
    "while(i<30):\n",
    "    \n",
    "    if(len(temp_input)>100):\n",
    "        #print(temp_input)\n",
    "        x_input=np.array(temp_input[1:])\n",
    "        print(\"{} day input {}\".format(i,x_input))\n",
    "        x_input=x_input.reshape(1,-1)\n",
    "        x_input = x_input.reshape((1, n_steps, 1))\n",
    "        #print(x_input)\n",
    "        yhat = model.predict(x_input, verbose=0)\n",
    "        print(\"{} day output {}\".format(i,yhat))\n",
    "        temp_input.extend(yhat[0].tolist())\n",
    "        temp_input=temp_input[1:]\n",
    "        #print(temp_input)\n",
    "        lst_output.extend(yhat.tolist())\n",
    "        i=i+1\n",
    "    else:\n",
    "        x_input = x_input.reshape((1, n_steps,1))\n",
    "        yhat = model.predict(x_input, verbose=0)\n",
    "        print(yhat[0])\n",
    "        temp_input.extend(yhat[0].tolist())\n",
    "        print(len(temp_input))\n",
    "        lst_output.extend(yhat.tolist())\n",
    "        i=i+1\n",
    "    \n",
    "\n",
    "print(lst_output)"
   ]
  },
  {
   "cell_type": "code",
   "execution_count": 27,
   "metadata": {},
   "outputs": [],
   "source": [
    "day_new=np.arange(1,101)\n",
    "day_pred=np.arange(101,131)"
   ]
  },
  {
   "cell_type": "code",
   "execution_count": 28,
   "metadata": {},
   "outputs": [
    {
     "data": {
      "text/plain": [
       "7942"
      ]
     },
     "execution_count": 28,
     "metadata": {},
     "output_type": "execute_result"
    }
   ],
   "source": [
    "df3=df1.tolist()\n",
    "df3.extend(lst_output)\n",
    "len(df1)"
   ]
  },
  {
   "cell_type": "code",
   "execution_count": 29,
   "metadata": {
    "scrolled": true
   },
   "outputs": [
    {
     "data": {
      "text/plain": [
       "[<matplotlib.lines.Line2D at 0x268fe74f310>]"
      ]
     },
     "execution_count": 29,
     "metadata": {},
     "output_type": "execute_result"
    },
    {
     "data": {
      "image/png": "[encoded data removed]",
      "text/plain": [
       "<Figure size 432x288 with 1 Axes>"
      ]
     },
     "metadata": {
      "needs_background": "light"
     },
     "output_type": "display_data"
    }
   ],
   "source": [
    "plt.plot(day_new,scaler.inverse_transform(df1[7842:]))\n",
    "plt.plot(day_pred,scaler.inverse_transform(lst_output))"
   ]
  },
  {
   "cell_type": "code",
   "execution_count": 30,
   "metadata": {},
   "outputs": [
    {
     "data": {
      "text/plain": [
       "30"
      ]
     },
     "execution_count": 30,
     "metadata": {},
     "output_type": "execute_result"
    }
   ],
   "source": [
    "\n",
    "result = []\n",
    "  \n",
    "for t in lst_output:\n",
    "    for x in t:\n",
    "        result.append(x)\n",
    "len(result)"
   ]
  },
  {
   "cell_type": "code",
   "execution_count": 31,
   "metadata": {},
   "outputs": [
    {
     "name": "stdout",
     "output_type": "stream",
     "text": [
      "Root Mean Squared Error: 2.8358408859269977\n"
     ]
    }
   ],
   "source": [
    "print('Root Mean Squared Error:',np.sqrt(mean_squared_error(df1[7912:], result[0:])))"
   ]
  },
  {
   "cell_type": "code",
   "execution_count": null,
   "metadata": {},
   "outputs": [],
   "source": []
  },
  {
   "cell_type": "code",
   "execution_count": null,
   "metadata": {},
   "outputs": [],
   "source": []
  }
 ],
 "metadata": {
  "kernelspec": {
   "display_name": "Python 3 (ipykernel)",
   "language": "python",
   "name": "python3"
  },
  "language_info": {
   "codemirror_mode": {
    "name": "ipython",
    "version": 3
   },
   "file_extension": ".py",
   "mimetype": "text/x-python",
   "name": "python",
   "nbconvert_exporter": "python",
   "pygments_lexer": "ipython3",
   "version": "3.8.8"
  }
 },
 "nbformat": 4,
 "nbformat_minor": 2
}
